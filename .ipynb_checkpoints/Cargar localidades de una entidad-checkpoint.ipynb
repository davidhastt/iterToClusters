{
 "cells": [
  {
   "cell_type": "code",
   "execution_count": null,
   "id": "3f6f811c",
   "metadata": {},
   "outputs": [],
   "source": [
    "from tqdm import tqdm\n",
    "import requests\n",
    "import time\n",
    "from zipfile import ZipFile\n",
    "import os\n",
    "import pandas as pd\n",
    "import folium"
   ]
  },
  {
   "cell_type": "code",
   "execution_count": null,
   "id": "350bfe3c",
   "metadata": {},
   "outputs": [],
   "source": [
    "def download(url, dir):\n",
    "    time.sleep(5)\n",
    "    chunk_size= 1024\n",
    "    r = requests.get(url, stream = True)\n",
    "    total_size = int(r.headers['content-length'])\n",
    "    filename =url.split('/')[-1]\n",
    "    with open(dir+filename, 'wb') as f:\n",
    "        for data in tqdm(iterable= r.iter_content(chunk_size = chunk_size), total = total_size/chunk_size, unit = 'KB'):\n",
    "            f.write(data)"
   ]
  },
  {
   "cell_type": "code",
   "execution_count": null,
   "id": "b5790e80",
   "metadata": {},
   "outputs": [],
   "source": [
    "entidades=[\"Aguascalientes:01\",\"Baja California:02\",\"Baja California Sur:03\",\"Campeche:04\",\"Coahuila de Zaragoza:05\",\"Colima:06\",\"Chiapas:07\",\"Chihuahua:08\",\"CDMX:09\",\"Durango:10\",\"Guanajuato:11\",\"Guerrero:12\",\"Hidalgo:13\",\"Jalisco:14\",\"México:15\",\"Michoacán de Ocampo:16\",\"Morelos:17\",\"Nayarit:18\",\"Nuevo León:19\",\"Oaxaca:20\",\"Puebla:21\",\"Querétaro:22\",\"Quintana Roo:23\",\"San Luis Potosí:24\",\"Sinaloa:25\",\"Sonora:26\",\"Tabasco:27\",\"Tamaulipas:28\",\"Tlaxcala:29\",\"Veracruz de Ignacio de la Llave:30\",\"Yucatán:31\",\"Zacatecas:32\"]\n",
    "for ent in entidades:\n",
    "    print(ent)"
   ]
  },
  {
   "cell_type": "code",
   "execution_count": null,
   "id": "d10c6bb3",
   "metadata": {},
   "outputs": [],
   "source": [
    "cve_ent=str(input(\"Escribe la clave del Estado que desea descargar: \"))"
   ]
  },
  {
   "cell_type": "code",
   "execution_count": null,
   "id": "4d0b9610",
   "metadata": {},
   "outputs": [],
   "source": [
    "directory= \"./iters/\"\n",
    "iter = f\"https://www.inegi.org.mx/contenidos/programas/ccpv/2020/microdatos/iter/iter_{cve_ent}_2020_csv.zip\"\n",
    "download(iter,directory)\n",
    "print(\"Descarga terminada\")"
   ]
  },
  {
   "cell_type": "code",
   "execution_count": null,
   "id": "0416b3ef",
   "metadata": {},
   "outputs": [],
   "source": [
    "zip_file = f\"./iters/iter_{cve_ent}_2020_csv.zip\"#en esta carpeta esta el zip\n",
    "\n",
    "#ITER_21CSV20.csv\n",
    "csv_file = f\"ITER_{cve_ent}CSV20.csv\"#este va a ser el nombre del archivo csv\n",
    "\n",
    "with ZipFile(zip_file, 'r') as zip:\n",
    "    zipInfo = zip.getinfo(csv_file)\n",
    "    zipInfo.filename = os.path.basename(csv_file)\n",
    "    zip.extract(zipInfo, directory)"
   ]
  },
  {
   "cell_type": "code",
   "execution_count": null,
   "id": "af809397",
   "metadata": {},
   "outputs": [],
   "source": [
    "#borrarmos el archivo zip\n",
    "os.remove(zip_file)"
   ]
  },
  {
   "cell_type": "code",
   "execution_count": null,
   "id": "886ede2d",
   "metadata": {},
   "outputs": [],
   "source": [
    "iter20 = pd.read_csv(\"./iters/\"+csv_file)"
   ]
  },
  {
   "cell_type": "code",
   "execution_count": null,
   "id": "4272aabf",
   "metadata": {},
   "outputs": [],
   "source": [
    "locsW0 =iter20.loc[:, 'MUN'] != 0 #Le decimos que elig las localidades whitout zero, el tipo de dato es una serie de pandas\n",
    "locsW0"
   ]
  },
  {
   "cell_type": "code",
   "execution_count": null,
   "id": "40dc4c6b",
   "metadata": {},
   "outputs": [],
   "source": [
    "df_localidadesW0 = iter20.loc[locsW0]# creamos un nuevo dataframe con la matriz de booleanos"
   ]
  },
  {
   "cell_type": "code",
   "execution_count": null,
   "id": "c6b1ac43",
   "metadata": {},
   "outputs": [],
   "source": [
    "#Volvemos a crear una matriz de booleanos\n",
    "locsW02 =df_localidadesW0.loc[:, 'LOC'] != 0\n",
    "locsW02"
   ]
  },
  {
   "cell_type": "code",
   "execution_count": null,
   "id": "70a81ff5",
   "metadata": {},
   "outputs": [],
   "source": [
    "#creamos un nuevo dataframe con la matriz de booleanos\n",
    "localidadesOK=df_localidadesW0[locsW02]"
   ]
  },
  {
   "cell_type": "code",
   "execution_count": null,
   "id": "5d447fc5",
   "metadata": {},
   "outputs": [],
   "source": [
    "#Quitamos datos con clave 9998\n",
    "#creamos una matriz de booleanos\n",
    "locsW03 =localidadesOK.loc[:, 'LOC'] != 9998 "
   ]
  },
  {
   "cell_type": "code",
   "execution_count": null,
   "id": "d51afab3",
   "metadata": {},
   "outputs": [],
   "source": [
    "#creamos otro dataframe con la matriz de booleanos\n",
    "localidadesOK2=localidadesOK.loc[locsW03]"
   ]
  },
  {
   "cell_type": "code",
   "execution_count": null,
   "id": "4cd67152",
   "metadata": {},
   "outputs": [],
   "source": [
    "#extraemos los grados de la coordenada X en una nueva columnna\n",
    "localidadesOK2=localidadesOK2.assign(gradosX=localidadesOK2['LONGITUD'].str[0:3])"
   ]
  },
  {
   "cell_type": "code",
   "execution_count": null,
   "id": "c2c82f72",
   "metadata": {},
   "outputs": [],
   "source": [
    "#extraemos los minutos de la coordenada X en una nueva columnna\n",
    "localidadesOK2=localidadesOK2.assign(minutosX=localidadesOK2['LONGITUD'].str[4:6])"
   ]
  },
  {
   "cell_type": "code",
   "execution_count": null,
   "id": "6d0dd090",
   "metadata": {},
   "outputs": [],
   "source": [
    "#extraemos los minutos de la coordenada X en una nueva columnna\n",
    "localidadesOK2=localidadesOK2.assign(segundosX=localidadesOK2['LONGITUD'].str[7:13])"
   ]
  },
  {
   "cell_type": "code",
   "execution_count": null,
   "id": "602af76b",
   "metadata": {},
   "outputs": [],
   "source": [
    "localidadesOK2[\"gradosX\"]=localidadesOK2[\"gradosX\"].astype(float)\n",
    "localidadesOK2[\"minutosX\"]=localidadesOK2[\"minutosX\"].astype(float)/60\n",
    "localidadesOK2[\"segundosX\"]=localidadesOK2[\"segundosX\"].astype(float)/3600"
   ]
  },
  {
   "cell_type": "code",
   "execution_count": null,
   "id": "418cdf42",
   "metadata": {},
   "outputs": [],
   "source": [
    "#Sumamos los grados minutos y segundos y los guardarmos en una nueva columna\n",
    "localidadesOK2=localidadesOK2.assign(X= (localidadesOK2[\"gradosX\"] + localidadesOK2[\"minutosX\"] + localidadesOK2[\"segundosX\"])*-1)"
   ]
  },
  {
   "cell_type": "code",
   "execution_count": null,
   "id": "fc097941",
   "metadata": {},
   "outputs": [],
   "source": [
    "localidadesOK2=localidadesOK2.assign(gradosY=localidadesOK2['LATITUD'].str[0:2])\n",
    "localidadesOK2=localidadesOK2.assign(minutosY=localidadesOK2['LATITUD'].str[3:5])\n",
    "localidadesOK2=localidadesOK2.assign(segundosY=localidadesOK2['LATITUD'].str[6:12])"
   ]
  },
  {
   "cell_type": "code",
   "execution_count": null,
   "id": "03dcb434",
   "metadata": {},
   "outputs": [],
   "source": [
    "localidadesOK2[\"gradosY\"]=localidadesOK2[\"gradosY\"].astype(float)\n",
    "localidadesOK2[\"minutosY\"]=localidadesOK2[\"minutosY\"].astype(float)/60\n",
    "localidadesOK2[\"segundosY\"]=localidadesOK2[\"segundosY\"].astype(float)/3600"
   ]
  },
  {
   "cell_type": "code",
   "execution_count": null,
   "id": "8fd31aaa",
   "metadata": {},
   "outputs": [],
   "source": [
    "localidadesOK2=localidadesOK2.assign(Y= localidadesOK2[\"gradosY\"] + localidadesOK2[\"minutosY\"] + localidadesOK2[\"segundosY\"])"
   ]
  },
  {
   "cell_type": "code",
   "execution_count": null,
   "id": "6bc2b4c4",
   "metadata": {},
   "outputs": [],
   "source": [
    "localidadesOK2.to_csv(f\"./iters/Localidades{cve_ent}.csv\")"
   ]
  },
  {
   "cell_type": "code",
   "execution_count": null,
   "id": "2c80124b",
   "metadata": {},
   "outputs": [],
   "source": [
    "#borrarmos el archivo csv que descargamos y conservamos el nuestro\n",
    "os.remove(f\"./iters/{csv_file}\")\n",
    "print(\"El proceso termino correctamente\")"
   ]
  },
  {
   "cell_type": "code",
   "execution_count": null,
   "id": "ec2f3c08",
   "metadata": {},
   "outputs": [],
   "source": [
    "localidadesOK2"
   ]
  },
  {
   "cell_type": "code",
   "execution_count": null,
   "id": "2a48b7c3",
   "metadata": {},
   "outputs": [],
   "source": [
    "df_sin_nan = localidadesOK2.dropna(subset=['X', 'Y'])\n",
    "df_sin_nan"
   ]
  },
  {
   "cell_type": "code",
   "execution_count": null,
   "id": "0c1fba2c",
   "metadata": {},
   "outputs": [],
   "source": [
    "x=df_sin_nan['X'].iloc[0]\n",
    "y=df_sin_nan['Y'].iloc[0]\n",
    "print(str(x), str(y))"
   ]
  },
  {
   "cell_type": "code",
   "execution_count": null,
   "id": "09804669",
   "metadata": {},
   "outputs": [],
   "source": [
    "# Creamos un mapa centrado en una ubicación específica (usando las coordenadas del primer punto de tu DataFrame)\n",
    "mapa = folium.Map(location=[y, x], zoom_start=10)"
   ]
  },
  {
   "cell_type": "code",
   "execution_count": null,
   "id": "6c3e32ea",
   "metadata": {},
   "outputs": [],
   "source": [
    "for i, row in df_sin_nan.iterrows():\n",
    "    folium.Marker(location=[row['X'], row['Y']], popup=row['NOM_LOC']).add_to(mapa)"
   ]
  },
  {
   "cell_type": "code",
   "execution_count": null,
   "id": "1dd69dd5",
   "metadata": {},
   "outputs": [],
   "source": [
    "mapa"
   ]
  },
  {
   "cell_type": "code",
   "execution_count": null,
   "id": "6d178ea5",
   "metadata": {},
   "outputs": [],
   "source": []
  }
 ],
 "metadata": {
  "kernelspec": {
   "display_name": "Python 3 (ipykernel)",
   "language": "python",
   "name": "python3"
  },
  "language_info": {
   "codemirror_mode": {
    "name": "ipython",
    "version": 3
   },
   "file_extension": ".py",
   "mimetype": "text/x-python",
   "name": "python",
   "nbconvert_exporter": "python",
   "pygments_lexer": "ipython3",
   "version": "3.10.6"
  }
 },
 "nbformat": 4,
 "nbformat_minor": 5
}
